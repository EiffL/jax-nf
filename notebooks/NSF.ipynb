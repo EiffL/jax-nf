{
 "cells": [
  {
   "cell_type": "code",
   "execution_count": 1,
   "metadata": {},
   "outputs": [
    {
     "name": "stdout",
     "output_type": "stream",
     "text": [
      "Populating the interactive namespace from numpy and matplotlib\n"
     ]
    }
   ],
   "source": [
    "%pylab inline \n",
    "\n",
    "%load_ext autoreload\n",
    "%autoreload 2\n",
    "\n",
    "import sys\n",
    "sys.path.insert(0,'..')\n",
    "\n",
    "from tensorflow_probability.python.internal.backend import jax as tf\n",
    "import tensorflow_probability as tfp; tfp = tfp.experimental.substrates.jax"
   ]
  },
  {
   "cell_type": "code",
   "execution_count": 2,
   "metadata": {},
   "outputs": [],
   "source": [
    "from jax_nf.real_nvp import RealNVP"
   ]
  },
  {
   "cell_type": "code",
   "execution_count": 3,
   "metadata": {},
   "outputs": [],
   "source": [
    "from flax import nn\n",
    "import jax\n",
    "import jax.numpy as np\n",
    "import numpy as onp\n",
    "import flax \n",
    "\n",
    "tfb = tfp.bijectors\n",
    "tfd = tfp.distributions"
   ]
  },
  {
   "cell_type": "code",
   "execution_count": 4,
   "metadata": {},
   "outputs": [],
   "source": [
    "@nn.module\n",
    "def NeuralSplineCoupling(x, nunits, nbins=32):\n",
    "\n",
    "  def bin_positions(x):\n",
    "    x = np.reshape(x, [-1, nunits, nbins])\n",
    "    return nn.activation.softmax(x, axis=-1) *  (2. - nbins * 1e-2) + 1e-2\n",
    "  \n",
    "  def slopes(x):\n",
    "    x = np.reshape(x, [-1, nunits, nbins - 1])\n",
    "    return nn.activation.softplus(x) + 1e-2\n",
    "\n",
    "  # Let's have one more non stupid layer\n",
    "  net = nn.leaky_relu(nn.Dense(x, 128))\n",
    "  net = nn.leaky_relu(nn.Dense(net, 128))\n",
    "\n",
    "  bin_widths = bin_positions(nn.Dense(net, nunits*nbins))\n",
    "  bin_heights = bin_positions(nn.Dense(net, nunits*nbins))\n",
    "  knot_slopes = slopes(nn.Dense(net, nunits*(nbins-1)))\n",
    "\n",
    "  return tfb.RationalQuadraticSpline(\n",
    "            bin_widths=bin_widths,\n",
    "            bin_heights=bin_heights,\n",
    "            knot_slopes=knot_slopes)"
   ]
  },
  {
   "cell_type": "code",
   "execution_count": 5,
   "metadata": {},
   "outputs": [
    {
     "name": "stderr",
     "output_type": "stream",
     "text": [
      "/home/francois/.local/lib/python3.8/site-packages/jax/lib/xla_bridge.py:116: UserWarning: No GPU/TPU found, falling back to CPU.\n",
      "  warnings.warn('No GPU/TPU found, falling back to CPU.')\n"
     ]
    }
   ],
   "source": [
    "# Instantiate the splines\n",
    "d = 2\n",
    "dummy_input = np.zeros((1, d//2))\n",
    "_, params1 = NeuralSplineCoupling.init(jax.random.PRNGKey(0), dummy_input, d//2)"
   ]
  },
  {
   "cell_type": "code",
   "execution_count": 6,
   "metadata": {},
   "outputs": [],
   "source": [
    "from functools import partial\n",
    "spline1 = partial(NeuralSplineCoupling.call, params1)"
   ]
  },
  {
   "cell_type": "code",
   "execution_count": 7,
   "metadata": {},
   "outputs": [],
   "source": [
    "nvp = tfd.TransformedDistribution(\n",
    "        tfd.Normal(0,1),\n",
    "        bijector=RealNVP(1, bijector_fn=spline1),\n",
    "        event_shape=(2,))"
   ]
  },
  {
   "cell_type": "code",
   "execution_count": 8,
   "metadata": {},
   "outputs": [
    {
     "name": "stderr",
     "output_type": "stream",
     "text": [
      "/home/francois/.local/lib/python3.8/site-packages/jax/lax/lax.py:5190: UserWarning: Explicitly requested dtype <class 'jax.numpy.lax_numpy.int64'> requested in zeros is not available, and will be truncated to dtype int32. To enable more dtypes, set the jax_enable_x64 configuration option or the JAX_ENABLE_X64 shell environment variable. See https://github.com/google/jax#current-gotchas for more.\n",
      "  warnings.warn(msg.format(dtype, fun_name , truncated_dtype))\n",
      "/home/francois/.local/lib/python3.8/site-packages/jax/lax/lax.py:5190: UserWarning: Explicitly requested dtype <class 'jax.numpy.lax_numpy.int64'> requested in astype is not available, and will be truncated to dtype int32. To enable more dtypes, set the jax_enable_x64 configuration option or the JAX_ENABLE_X64 shell environment variable. See https://github.com/google/jax#current-gotchas for more.\n",
      "  warnings.warn(msg.format(dtype, fun_name , truncated_dtype))\n"
     ]
    }
   ],
   "source": [
    "samps = nvp.sample((1000,), seed=jax.random.PRNGKey(1))"
   ]
  },
  {
   "cell_type": "code",
   "execution_count": 9,
   "metadata": {},
   "outputs": [
    {
     "data": {
      "image/png": "[encoded data removed]",
      "text/plain": [
       "<Figure size 432x288 with 1 Axes>"
      ]
     },
     "metadata": {
      "needs_background": "light"
     },
     "output_type": "display_data"
    }
   ],
   "source": [
    "hist2d(samps[:,0], samps[:,1],64);"
   ]
  },
  {
   "cell_type": "code",
   "execution_count": 10,
   "metadata": {},
   "outputs": [],
   "source": [
    "# Sweet :-D Hurray for TFP"
   ]
  },
  {
   "cell_type": "code",
   "execution_count": 11,
   "metadata": {},
   "outputs": [],
   "source": [
    "# Let's try to learn a density"
   ]
  },
  {
   "cell_type": "code",
   "execution_count": 12,
   "metadata": {},
   "outputs": [],
   "source": [
    "d=2\n",
    "@nn.module\n",
    "def NeuralSplineFlow(x):\n",
    "    \n",
    "    spline1 = NeuralSplineCoupling.shared(name='spline1')\n",
    "    spline2 = NeuralSplineCoupling.shared(name='spline2')\n",
    "    \n",
    "    # Computes the likelihood of these x\n",
    "    chain = tfb.Chain([\n",
    "        tfb.Scale(10),\n",
    "        RealNVP(d//2, bijector_fn=spline1),\n",
    "        tfb.Permute([1,0]),\n",
    "        RealNVP(d//2, bijector_fn=spline2),\n",
    "        tfb.Permute([1,0]),\n",
    "        tfb.Scale(0.1)\n",
    "    ])\n",
    "    \n",
    "    nvp = tfd.TransformedDistribution(\n",
    "                tfd.Normal(0,1),\n",
    "                bijector=chain,\n",
    "                event_shape=(d,))\n",
    "    \n",
    "    return nvp.log_prob(x)"
   ]
  },
  {
   "cell_type": "code",
   "execution_count": 13,
   "metadata": {},
   "outputs": [],
   "source": [
    "dummy_input = np.zeros((1,d))\n",
    "res, params = NeuralSplineFlow.init(jax.random.PRNGKey(0), dummy_input)"
   ]
  },
  {
   "cell_type": "code",
   "execution_count": 14,
   "metadata": {},
   "outputs": [],
   "source": [
    "model = nn.Model(NeuralSplineFlow, params)"
   ]
  },
  {
   "cell_type": "code",
   "execution_count": 15,
   "metadata": {},
   "outputs": [],
   "source": [
    "# Ok, sweet\n",
    "@jax.jit\n",
    "def train_step(optimizer, batch):\n",
    "    \n",
    "    def loss_fn(model):\n",
    "        log_prob = model(batch['x'])\n",
    "        return -np.mean(log_prob)\n",
    "    \n",
    "    loss, grad = jax.value_and_grad(loss_fn)(optimizer.target)\n",
    "    optimizer = optimizer.apply_gradient(grad)\n",
    "    return loss, optimizer"
   ]
  },
  {
   "cell_type": "code",
   "execution_count": 16,
   "metadata": {},
   "outputs": [],
   "source": [
    "# Now let's draw ou famous two moons\n",
    "from sklearn import datasets\n",
    "\n",
    "# Experimenting with only a fixed number of points\n",
    "batch_size=512\n",
    "def get_batch():\n",
    "    x, y = datasets.make_moons(n_samples=batch_size, noise=.05)\n",
    "    return {'x': x}"
   ]
  },
  {
   "cell_type": "code",
   "execution_count": 17,
   "metadata": {},
   "outputs": [],
   "source": [
    "# okokokok, let's try it out\n",
    "optimizer = flax.optim.Adam(learning_rate=0.001).create(model)\n",
    "losses = []"
   ]
  },
  {
   "cell_type": "code",
   "execution_count": 33,
   "metadata": {},
   "outputs": [
    {
     "name": "stdout",
     "output_type": "stream",
     "text": [
      "0.33965787\n",
      "0.39848748\n",
      "0.39466545\n",
      "0.37984976\n",
      "0.33249596\n",
      "0.33748803\n",
      "0.32456493\n",
      "0.34433728\n",
      "0.43304682\n",
      "0.41843653\n",
      "0.36077815\n",
      "0.3994238\n",
      "0.39412624\n",
      "0.35455206\n",
      "0.3839511\n",
      "0.35352263\n",
      "0.35259557\n",
      "0.27102777\n",
      "0.3767648\n",
      "0.3559861\n"
     ]
    }
   ],
   "source": [
    "for i in range(2000):\n",
    "    batch = get_batch()\n",
    "    l, optimizer = train_step(optimizer, batch)\n",
    "    losses.append(l)\n",
    "    if  i %100 ==0:\n",
    "        print(l)"
   ]
  },
  {
   "cell_type": "code",
   "execution_count": 34,
   "metadata": {},
   "outputs": [
    {
     "data": {
      "text/plain": [
       "[<matplotlib.lines.Line2D at 0x7f6a0ed2c820>]"
      ]
     },
     "execution_count": 34,
     "metadata": {},
     "output_type": "execute_result"
    },
    {
     "data": {
      "image/png": "[encoded data removed]",
      "text/plain": [
       "<Figure size 432x288 with 1 Axes>"
      ]
     },
     "metadata": {
      "needs_background": "light"
     },
     "output_type": "display_data"
    }
   ],
   "source": [
    "plot(losses)"
   ]
  },
  {
   "cell_type": "code",
   "execution_count": 35,
   "metadata": {},
   "outputs": [],
   "source": [
    "# ok, fine, let's see if we can rebuild our flow\n",
    "@nn.module\n",
    "def NeuralSplineFlowSampler(key, n_samples):\n",
    "    \n",
    "    spline1 = NeuralSplineCoupling.shared(name='spline1')\n",
    "    spline2 = NeuralSplineCoupling.shared(name='spline2')\n",
    "    \n",
    "    # Computes the likelihood of these x\n",
    "    chain = tfb.Chain([\n",
    "        tfb.Scale(10),\n",
    "        RealNVP(d//2, bijector_fn=spline1),\n",
    "        tfb.Permute([1,0]),\n",
    "        RealNVP(d//2, bijector_fn=spline2),\n",
    "        tfb.Permute([1,0]),\n",
    "        tfb.Scale(0.1)\n",
    "    ])\n",
    "    nvp = tfd.TransformedDistribution(\n",
    "                tfd.Normal(0,1),\n",
    "                bijector=chain,\n",
    "                event_shape=(d,))\n",
    "    \n",
    "    return nvp.sample(n_samples, seed=key)"
   ]
  },
  {
   "cell_type": "code",
   "execution_count": 36,
   "metadata": {},
   "outputs": [],
   "source": [
    "sampler = nn.Model(NeuralSplineFlowSampler, optimizer.target.params)"
   ]
  },
  {
   "cell_type": "code",
   "execution_count": 37,
   "metadata": {},
   "outputs": [],
   "source": [
    "samps = sampler(jax.random.PRNGKey(1),10000)"
   ]
  },
  {
   "cell_type": "code",
   "execution_count": 38,
   "metadata": {},
   "outputs": [
    {
     "data": {
      "image/png": "[encoded data removed]",
      "text/plain": [
       "<Figure size 432x288 with 1 Axes>"
      ]
     },
     "metadata": {
      "needs_background": "light"
     },
     "output_type": "display_data"
    }
   ],
   "source": [
    "hist2d(samps[:,0], samps[:,1],64, range=[[-1.2,2.2],[-0.6,1.1]]);"
   ]
  },
  {
   "cell_type": "code",
   "execution_count": 39,
   "metadata": {},
   "outputs": [
    {
     "data": {
      "image/png": "[encoded data removed]",
      "text/plain": [
       "<Figure size 432x288 with 1 Axes>"
      ]
     },
     "metadata": {
      "needs_background": "light"
     },
     "output_type": "display_data"
    }
   ],
   "source": [
    "hist2d(batch['x'][:,0], batch['x'][:,1],64, range=[[-1.2,2.2],[-0.6,1.1]]);"
   ]
  },
  {
   "cell_type": "code",
   "execution_count": null,
   "metadata": {},
   "outputs": [],
   "source": []
  }
 ],
 "metadata": {
  "kernelspec": {
   "display_name": "Python 3",
   "language": "python",
   "name": "python3"
  },
  "language_info": {
   "codemirror_mode": {
    "name": "ipython",
    "version": 3
   },
   "file_extension": ".py",
   "mimetype": "text/x-python",
   "name": "python",
   "nbconvert_exporter": "python",
   "pygments_lexer": "ipython3",
   "version": "3.8.2"
  }
 },
 "nbformat": 4,
 "nbformat_minor": 2
}
