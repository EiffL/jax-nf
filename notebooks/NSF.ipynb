{
 "cells": [
  {
   "cell_type": "code",
   "execution_count": 1,
   "metadata": {},
   "outputs": [
    {
     "name": "stdout",
     "output_type": "stream",
     "text": [
      "Populating the interactive namespace from numpy and matplotlib\n"
     ]
    }
   ],
   "source": [
    "%pylab inline \n",
    "\n",
    "%load_ext autoreload\n",
    "%autoreload 2\n",
    "\n",
    "import sys\n",
    "sys.path.insert(0,'..')\n",
    "\n",
    "from tensorflow_probability.python.internal.backend import jax as tf\n",
    "import tensorflow_probability as tfp; tfp = tfp.experimental.substrates.jax"
   ]
  },
  {
   "cell_type": "code",
   "execution_count": 2,
   "metadata": {},
   "outputs": [],
   "source": [
    "from jax_nf.real_nvp import RealNVP"
   ]
  },
  {
   "cell_type": "code",
   "execution_count": 24,
   "metadata": {},
   "outputs": [],
   "source": [
    "from flax import nn\n",
    "import jax\n",
    "import jax.numpy as np\n",
    "import numpy as onp\n",
    "import flax \n",
    "\n",
    "tfb = tfp.bijectors\n",
    "tfd = tfp.distributions"
   ]
  },
  {
   "cell_type": "code",
   "execution_count": 9,
   "metadata": {},
   "outputs": [],
   "source": [
    "@nn.module\n",
    "def NeuralSplineCoupling(x, nunits, nbins=32):\n",
    "\n",
    "  def bin_positions(x):\n",
    "    x = np.reshape(x, [-1, nbins])\n",
    "    return nn.activation.softmax(x, axis=-1) *  (2. - nbins * 1e-2) + 1e-2\n",
    "  \n",
    "  def slopes(x):\n",
    "    x = np.reshape(x, [-1, nbins - 1])\n",
    "    return nn.activation.softplus(x) + 1e-2\n",
    "\n",
    "  # Let's have one more non stupid layer\n",
    "  net = nn.leaky_relu(nn.Dense(x, 128))\n",
    "  net = nn.leaky_relu(nn.Dense(net, 128))\n",
    "\n",
    "  bin_widths = bin_positions(nn.Dense(net, nunits*nbins))\n",
    "  bin_heights = bin_positions(nn.Dense(net, nunits*nbins))\n",
    "  knot_slopes = slopes(nn.Dense(net, nunits*(nbins-1)))\n",
    "\n",
    "  return tfb.RationalQuadraticSpline(\n",
    "            bin_widths=bin_widths,\n",
    "            bin_heights=bin_heights,\n",
    "            knot_slopes=knot_slopes)"
   ]
  },
  {
   "cell_type": "code",
   "execution_count": 10,
   "metadata": {},
   "outputs": [],
   "source": [
    "# Instantiate the splines\n",
    "d = 2\n",
    "dummy_input = np.zeros((1, d//2))\n",
    "_, params1 = NeuralSplineCoupling.init(jax.random.PRNGKey(0), dummy_input, d//2)"
   ]
  },
  {
   "cell_type": "code",
   "execution_count": 11,
   "metadata": {},
   "outputs": [],
   "source": [
    "from functools import partial\n",
    "spline1 = partial(NeuralSplineCoupling.call, params1)"
   ]
  },
  {
   "cell_type": "code",
   "execution_count": 12,
   "metadata": {},
   "outputs": [],
   "source": [
    "nvp = tfd.TransformedDistribution(\n",
    "        tfd.Normal(0,1),\n",
    "        bijector=RealNVP(1, bijector_fn=spline1),\n",
    "        event_shape=(2,))"
   ]
  },
  {
   "cell_type": "code",
   "execution_count": 13,
   "metadata": {},
   "outputs": [
    {
     "name": "stderr",
     "output_type": "stream",
     "text": [
      "/home/francois/.local/lib/python3.8/site-packages/jax/lax/lax.py:5190: UserWarning: Explicitly requested dtype <class 'jax.numpy.lax_numpy.int64'> requested in zeros is not available, and will be truncated to dtype int32. To enable more dtypes, set the jax_enable_x64 configuration option or the JAX_ENABLE_X64 shell environment variable. See https://github.com/google/jax#current-gotchas for more.\n",
      "  warnings.warn(msg.format(dtype, fun_name , truncated_dtype))\n",
      "/home/francois/.local/lib/python3.8/site-packages/jax/lax/lax.py:5190: UserWarning: Explicitly requested dtype <class 'jax.numpy.lax_numpy.int64'> requested in astype is not available, and will be truncated to dtype int32. To enable more dtypes, set the jax_enable_x64 configuration option or the JAX_ENABLE_X64 shell environment variable. See https://github.com/google/jax#current-gotchas for more.\n",
      "  warnings.warn(msg.format(dtype, fun_name , truncated_dtype))\n"
     ]
    }
   ],
   "source": [
    "samps = nvp.sample((1000,), seed=jax.random.PRNGKey(1))"
   ]
  },
  {
   "cell_type": "code",
   "execution_count": 14,
   "metadata": {},
   "outputs": [
    {
     "data": {
      "image/png": "[encoded data removed]",
      "text/plain": [
       "<Figure size 432x288 with 1 Axes>"
      ]
     },
     "metadata": {
      "needs_background": "light"
     },
     "output_type": "display_data"
    }
   ],
   "source": [
    "hist2d(samps[:,0], samps[:,1],64);"
   ]
  },
  {
   "cell_type": "code",
   "execution_count": 15,
   "metadata": {},
   "outputs": [],
   "source": [
    "# Sweet :-D Hurray for TFP"
   ]
  },
  {
   "cell_type": "code",
   "execution_count": 16,
   "metadata": {},
   "outputs": [],
   "source": [
    "# Let's try to learn a density"
   ]
  },
  {
   "cell_type": "code",
   "execution_count": 18,
   "metadata": {},
   "outputs": [],
   "source": [
    "d=2\n",
    "@nn.module\n",
    "def NeuralSplineFlow(x):\n",
    "    \n",
    "    spline1 = NeuralSplineCoupling.shared(name='spline1')\n",
    "    spline2 = NeuralSplineCoupling.shared(name='spline2')\n",
    "    spline3 = NeuralSplineCoupling.shared(name='spline3')\n",
    "    spline4 = NeuralSplineCoupling.shared(name='spline4')\n",
    "    \n",
    "    # Computes the likelihood of these x\n",
    "    chain = tfb.Chain([\n",
    "        RealNVP(d//2, bijector_fn=spline1),\n",
    "        tfb.Permute([1,0]),\n",
    "        RealNVP(d//2, bijector_fn=spline2),\n",
    "        tfb.Permute([1,0]),\n",
    "        RealNVP(d//2, bijector_fn=spline3),\n",
    "        tfb.Permute([1,0]),\n",
    "        RealNVP(d//2, bijector_fn=spline4)\n",
    "    ])\n",
    "    \n",
    "    nvp = tfd.TransformedDistribution(\n",
    "                tfd.Normal(0,1),\n",
    "                bijector=chain,\n",
    "                event_shape=(d,))\n",
    "    \n",
    "    return nvp.log_prob(x)"
   ]
  },
  {
   "cell_type": "code",
   "execution_count": 19,
   "metadata": {},
   "outputs": [
    {
     "name": "stderr",
     "output_type": "stream",
     "text": [
      "/home/francois/.local/lib/python3.8/site-packages/jax/lax/lax.py:5190: UserWarning: Explicitly requested dtype <class 'jax.numpy.lax_numpy.int64'> requested in zeros is not available, and will be truncated to dtype int32. To enable more dtypes, set the jax_enable_x64 configuration option or the JAX_ENABLE_X64 shell environment variable. See https://github.com/google/jax#current-gotchas for more.\n",
      "  warnings.warn(msg.format(dtype, fun_name , truncated_dtype))\n",
      "/home/francois/.local/lib/python3.8/site-packages/jax/lax/lax.py:5190: UserWarning: Explicitly requested dtype <class 'jax.numpy.lax_numpy.int64'> requested in astype is not available, and will be truncated to dtype int32. To enable more dtypes, set the jax_enable_x64 configuration option or the JAX_ENABLE_X64 shell environment variable. See https://github.com/google/jax#current-gotchas for more.\n",
      "  warnings.warn(msg.format(dtype, fun_name , truncated_dtype))\n"
     ]
    }
   ],
   "source": [
    "dummy_input = np.zeros((1,d))\n",
    "res, params = NeuralSplineFlow.init(jax.random.PRNGKey(0), dummy_input)"
   ]
  },
  {
   "cell_type": "code",
   "execution_count": 20,
   "metadata": {},
   "outputs": [],
   "source": [
    "model = nn.Model(NeuralSplineFlow, params)"
   ]
  },
  {
   "cell_type": "code",
   "execution_count": 21,
   "metadata": {},
   "outputs": [],
   "source": [
    "# Ok, sweet\n",
    "@jax.jit\n",
    "def train_step(optimizer, batch):\n",
    "    \n",
    "    def loss_fn(model):\n",
    "        log_prob = model(batch['x'])\n",
    "        return -np.mean(log_prob)\n",
    "    \n",
    "    loss, grad = jax.value_and_grad(loss_fn)(optimizer.target)\n",
    "    optimizer = optimizer.apply_gradient(grad)\n",
    "    return loss, optimizer"
   ]
  },
  {
   "cell_type": "code",
   "execution_count": 22,
   "metadata": {},
   "outputs": [],
   "source": [
    "# Now let's draw ou famous two moons\n",
    "from sklearn import datasets\n",
    "\n",
    "batch_size=256\n",
    "def get_batch():\n",
    "    x, y = datasets.make_moons(n_samples=batch_size, noise=.05)\n",
    "    return {'x': x}"
   ]
  },
  {
   "cell_type": "code",
   "execution_count": 25,
   "metadata": {},
   "outputs": [],
   "source": [
    "# okokokok, let's try it out\n",
    "optimizer = flax.optim.Adam(learning_rate=0.001).create(model)\n",
    "losses = []"
   ]
  },
  {
   "cell_type": "code",
   "execution_count": null,
   "metadata": {},
   "outputs": [
    {
     "name": "stderr",
     "output_type": "stream",
     "text": [
      "/home/francois/.local/lib/python3.8/site-packages/jax/lax/lax.py:5190: UserWarning: Explicitly requested dtype <class 'jax.numpy.lax_numpy.int64'> requested in zeros is not available, and will be truncated to dtype int32. To enable more dtypes, set the jax_enable_x64 configuration option or the JAX_ENABLE_X64 shell environment variable. See https://github.com/google/jax#current-gotchas for more.\n",
      "  warnings.warn(msg.format(dtype, fun_name , truncated_dtype))\n",
      "/home/francois/.local/lib/python3.8/site-packages/jax/lax/lax.py:5190: UserWarning: Explicitly requested dtype <class 'jax.numpy.lax_numpy.int64'> requested in astype is not available, and will be truncated to dtype int32. To enable more dtypes, set the jax_enable_x64 configuration option or the JAX_ENABLE_X64 shell environment variable. See https://github.com/google/jax#current-gotchas for more.\n",
      "  warnings.warn(msg.format(dtype, fun_name , truncated_dtype))\n"
     ]
    }
   ],
   "source": [
    "for i in range(100):\n",
    "    batch = get_batch()\n",
    "    l, optimizer = train_step(optimizer, batch)\n",
    "    losses.append(l)\n",
    "    if  i %10 ==0:\n",
    "        print(l)"
   ]
  },
  {
   "cell_type": "code",
   "execution_count": 230,
   "metadata": {},
   "outputs": [
    {
     "data": {
      "text/plain": [
       "[<matplotlib.lines.Line2D at 0x7ffa3297bc10>]"
      ]
     },
     "execution_count": 230,
     "metadata": {},
     "output_type": "execute_result"
    },
    {
     "data": {
      "image/png": "[encoded data removed]",
      "text/plain": [
       "<Figure size 432x288 with 1 Axes>"
      ]
     },
     "metadata": {
      "needs_background": "light"
     },
     "output_type": "display_data"
    }
   ],
   "source": [
    "plot(losses)"
   ]
  },
  {
   "cell_type": "code",
   "execution_count": 231,
   "metadata": {},
   "outputs": [],
   "source": [
    "# ok, fine, let's see if we can rebuild our flow\n",
    "@nn.module\n",
    "def NeuralSplineFlowSampler(key, n_samples):\n",
    "    \n",
    "    spline1 = NeuralSpline.shared(name='spline1')\n",
    "    spline2 = NeuralSpline.shared(name='spline2')\n",
    "    \n",
    "    # Computes the likelihood of these x\n",
    "    chain = tfb.Chain([\n",
    "        RealNVP(d//2, bijector_fn=spline1),\n",
    "        tfb.Permute(onp.arange(d)[::1]),\n",
    "        RealNVP(d//2, bijector_fn=spline2)\n",
    "    ])\n",
    "    \n",
    "    nvp = tfd.TransformedDistribution(\n",
    "                tfd.Normal(0,1),\n",
    "                bijector=chain,\n",
    "                event_shape=(d,))\n",
    "    \n",
    "    return nvp.sample(n_samples, seed=key)"
   ]
  },
  {
   "cell_type": "code",
   "execution_count": 232,
   "metadata": {},
   "outputs": [],
   "source": [
    "sampler = nn.Model(NeuralSplineFlowSampler, optimizer.target.params)"
   ]
  },
  {
   "cell_type": "code",
   "execution_count": 233,
   "metadata": {},
   "outputs": [
    {
     "name": "stderr",
     "output_type": "stream",
     "text": [
      "/home/francois/.local/lib/python3.8/site-packages/jax/lax/lax.py:5190: UserWarning: Explicitly requested dtype <class 'jax.numpy.lax_numpy.int64'> requested in zeros is not available, and will be truncated to dtype int32. To enable more dtypes, set the jax_enable_x64 configuration option or the JAX_ENABLE_X64 shell environment variable. See https://github.com/google/jax#current-gotchas for more.\n",
      "  warnings.warn(msg.format(dtype, fun_name , truncated_dtype))\n",
      "/home/francois/.local/lib/python3.8/site-packages/jax/lax/lax.py:5190: UserWarning: Explicitly requested dtype <class 'jax.numpy.lax_numpy.int64'> requested in astype is not available, and will be truncated to dtype int32. To enable more dtypes, set the jax_enable_x64 configuration option or the JAX_ENABLE_X64 shell environment variable. See https://github.com/google/jax#current-gotchas for more.\n",
      "  warnings.warn(msg.format(dtype, fun_name , truncated_dtype))\n"
     ]
    }
   ],
   "source": [
    "samps = sampler(jax.random.PRNGKey(1),1000)"
   ]
  },
  {
   "cell_type": "code",
   "execution_count": 234,
   "metadata": {},
   "outputs": [
    {
     "data": {
      "image/png": "[encoded data removed]",
      "text/plain": [
       "<Figure size 432x288 with 1 Axes>"
      ]
     },
     "metadata": {
      "needs_background": "light"
     },
     "output_type": "display_data"
    }
   ],
   "source": [
    "hist2d(samps[:,0], samps[:,1],64);"
   ]
  },
  {
   "cell_type": "code",
   "execution_count": 83,
   "metadata": {},
   "outputs": [],
   "source": [
    "def loss(x):\n",
    "    return -np.mean(nvp.log_prob(x))"
   ]
  },
  {
   "cell_type": "code",
   "execution_count": 86,
   "metadata": {},
   "outputs": [],
   "source": [
    "model = nn.Model(NeuralSpline, params1)"
   ]
  },
  {
   "cell_type": "code",
   "execution_count": 117,
   "metadata": {},
   "outputs": [],
   "source": [
    "@jax.jit\n",
    "def train_step(optimizer, batch):\n",
    "    \n",
    "    def loss_fn(model):\n",
    "        nvp = tfd.TransformedDistribution(\n",
    "                tfd.Normal(0,1),\n",
    "                bijector=RealNVP(1, bijector_fn=model),\n",
    "                event_shape=(2,))\n",
    "        return -np.mean(nvp.log_prob(batch['x']))\n",
    "    \n",
    "    loss, grad = jax.value_and_grad(loss_fn)(optimizer.target)\n",
    "    optimizer = optimizer.apply_gradient(grad)\n",
    "    return loss, optimizer"
   ]
  },
  {
   "cell_type": "code",
   "execution_count": 96,
   "metadata": {},
   "outputs": [],
   "source": [
    "# Now let's draw ou famous two moons\n",
    "from sklearn import datasets\n",
    "\n",
    "batch_size=128\n",
    "def get_batch():\n",
    "    x, y = datasets.make_moons(n_samples=batch_size, noise=.05)\n",
    "    return {'x': x}"
   ]
  },
  {
   "cell_type": "code",
   "execution_count": 97,
   "metadata": {},
   "outputs": [],
   "source": [
    "X = get_batch()['x']"
   ]
  },
  {
   "cell_type": "code",
   "execution_count": 98,
   "metadata": {},
   "outputs": [
    {
     "data": {
      "image/png": "[encoded data removed]",
      "text/plain": [
       "<Figure size 432x288 with 1 Axes>"
      ]
     },
     "metadata": {
      "needs_background": "light"
     },
     "output_type": "display_data"
    }
   ],
   "source": [
    "hist2d(X[:,0], X[:,1],100);"
   ]
  },
  {
   "cell_type": "code",
   "execution_count": 100,
   "metadata": {},
   "outputs": [],
   "source": [
    "# okokokok, let's try it out\n",
    "optimizer = flax.optim.Adam(learning_rate=0.001).create(model)"
   ]
  },
  {
   "cell_type": "code",
   "execution_count": 130,
   "metadata": {},
   "outputs": [
    {
     "name": "stdout",
     "output_type": "stream",
     "text": [
      "126.38759\n",
      "120.298325\n",
      "120.98919\n",
      "121.436035\n",
      "119.74574\n",
      "114.877106\n",
      "118.36955\n",
      "118.67375\n",
      "117.55942\n",
      "122.62619\n",
      "120.019485\n",
      "116.24586\n",
      "117.256775\n",
      "117.43939\n",
      "118.84485\n",
      "119.178055\n",
      "124.17711\n",
      "120.51706\n",
      "115.818634\n",
      "118.26924\n",
      "117.67703\n",
      "127.61462\n",
      "124.993195\n",
      "113.86021\n",
      "123.412155\n",
      "118.86015\n",
      "120.3675\n",
      "122.897415\n",
      "125.98642\n",
      "115.746574\n",
      "120.83139\n",
      "119.29904\n",
      "118.56862\n",
      "120.21105\n",
      "119.4609\n",
      "120.857895\n",
      "115.43545\n",
      "114.051315\n",
      "113.54808\n",
      "111.844765\n",
      "119.17908\n",
      "113.89007\n",
      "113.21741\n",
      "112.35327\n",
      "112.07547\n",
      "116.51413\n",
      "116.97775\n",
      "117.64081\n",
      "116.1015\n",
      "115.054855\n",
      "115.09271\n",
      "116.968155\n",
      "120.67496\n",
      "117.01786\n",
      "112.311615\n",
      "117.91914\n",
      "113.76318\n",
      "118.064995\n",
      "115.67772\n",
      "118.79712\n",
      "112.23981\n",
      "113.90381\n",
      "115.8639\n",
      "115.17132\n",
      "114.467606\n",
      "114.04404\n",
      "113.731674\n",
      "115.43771\n",
      "111.78854\n",
      "111.06248\n",
      "115.639465\n",
      "114.63947\n",
      "118.57591\n",
      "112.63108\n",
      "117.314224\n",
      "118.54077\n",
      "118.03816\n",
      "115.879364\n",
      "116.48398\n",
      "117.45527\n",
      "110.58948\n",
      "115.87412\n",
      "116.44886\n",
      "118.26074\n",
      "113.95868\n",
      "116.72723\n",
      "116.019196\n",
      "114.71804\n",
      "116.541016\n",
      "113.17034\n",
      "114.57286\n",
      "117.22303\n",
      "116.73962\n",
      "117.1223\n",
      "123.04128\n",
      "114.2041\n",
      "117.32869\n",
      "113.58739\n",
      "113.58887\n",
      "118.63936\n"
     ]
    }
   ],
   "source": [
    "for i in range(1000):\n",
    "    batch = get_batch()\n",
    "    l, optimizer = train_step(optimizer, batch)\n",
    "    if  i %10 ==0:\n",
    "        print(l)"
   ]
  },
  {
   "cell_type": "code",
   "execution_count": 131,
   "metadata": {},
   "outputs": [],
   "source": [
    "# For testing, let's define an nvp from the current optimizer\n",
    "# state\n",
    "\n",
    "test_nvp = tfd.TransformedDistribution(\n",
    "                tfd.Normal(0,1),\n",
    "                bijector=RealNVP(1, bijector_fn=optimizer.target),\n",
    "                event_shape=(2,))"
   ]
  },
  {
   "cell_type": "code",
   "execution_count": 134,
   "metadata": {},
   "outputs": [],
   "source": [
    "samps = test_nvp.sample((10000,), seed=jax.random.PRNGKey(1))"
   ]
  },
  {
   "cell_type": "code",
   "execution_count": 136,
   "metadata": {},
   "outputs": [
    {
     "data": {
      "image/png": "[encoded data removed]",
      "text/plain": [
       "<Figure size 432x288 with 1 Axes>"
      ]
     },
     "metadata": {
      "needs_background": "light"
     },
     "output_type": "display_data"
    }
   ],
   "source": [
    "hist2d(samps[:,0], samps[:,1],128);"
   ]
  },
  {
   "cell_type": "code",
   "execution_count": null,
   "metadata": {},
   "outputs": [],
   "source": []
  }
 ],
 "metadata": {
  "kernelspec": {
   "display_name": "Python 3",
   "language": "python",
   "name": "python3"
  },
  "language_info": {
   "codemirror_mode": {
    "name": "ipython",
    "version": 3
   },
   "file_extension": ".py",
   "mimetype": "text/x-python",
   "name": "python",
   "nbconvert_exporter": "python",
   "pygments_lexer": "ipython3",
   "version": "3.8.2"
  }
 },
 "nbformat": 4,
 "nbformat_minor": 2
}
