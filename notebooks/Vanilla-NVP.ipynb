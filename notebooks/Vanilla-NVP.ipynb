{
 "cells": [
  {
   "cell_type": "code",
   "execution_count": 1,
   "metadata": {},
   "outputs": [
    {
     "name": "stdout",
     "output_type": "stream",
     "text": [
      "Populating the interactive namespace from numpy and matplotlib\n"
     ]
    }
   ],
   "source": [
    "%pylab inline \n",
    "\n",
    "%load_ext autoreload\n",
    "%autoreload 2\n",
    "\n",
    "import sys\n",
    "sys.path.insert(0,'..')\n",
    "\n",
    "from tensorflow_probability.python.internal.backend import jax as tf\n",
    "import tensorflow_probability as tfp; tfp = tfp.experimental.substrates.jax"
   ]
  },
  {
   "cell_type": "code",
   "execution_count": 2,
   "metadata": {},
   "outputs": [],
   "source": [
    "from jax_nf.real_nvp import RealNVP"
   ]
  },
  {
   "cell_type": "code",
   "execution_count": 52,
   "metadata": {},
   "outputs": [],
   "source": [
    "from flax import nn\n",
    "import jax\n",
    "import jax.numpy as np\n",
    "import numpy as onp\n",
    "import flax\n",
    "\n",
    "tfd = tfp.distributions\n",
    "tfb = tfp.bijectors"
   ]
  },
  {
   "cell_type": "code",
   "execution_count": 135,
   "metadata": {},
   "outputs": [],
   "source": [
    "@nn.module\n",
    "def AffineCoupling(x, nunits, apply_scaling=True):\n",
    "\n",
    "  # Let's have one more non stupid lyerre\n",
    "  net = nn.leaky_relu(nn.Dense(x, 128))\n",
    "  net = nn.leaky_relu(nn.Dense(net, 128))\n",
    "    \n",
    "  shift = nn.Dense(net, nunits)\n",
    "  if apply_scaling:\n",
    "    scaler = tfb.Scale(np.clip(np.exp(nn.Dense(net, nunits)), 1e-3, 1e3))\n",
    "  else:\n",
    "    scaler = tfb.Identity()\n",
    "  return  tfb.Chain([ tfb.Shift(shift), scaler])"
   ]
  },
  {
   "cell_type": "code",
   "execution_count": 136,
   "metadata": {},
   "outputs": [],
   "source": [
    "# Instantiate the splines\n",
    "d = 2\n",
    "dummy_input = np.zeros((1, d//2))\n",
    "_, params1 = AffineCoupling.init(jax.random.PRNGKey(0), dummy_input, d//2)"
   ]
  },
  {
   "cell_type": "code",
   "execution_count": 137,
   "metadata": {},
   "outputs": [],
   "source": [
    "from functools import partial\n",
    "affine1 = partial(AffineCoupling.call, params1)"
   ]
  },
  {
   "cell_type": "code",
   "execution_count": 138,
   "metadata": {},
   "outputs": [],
   "source": [
    "nvp = tfd.TransformedDistribution(\n",
    "        tfd.Normal(0,1),\n",
    "        bijector=RealNVP(1, bijector_fn=affine1),\n",
    "        event_shape=(2,))"
   ]
  },
  {
   "cell_type": "code",
   "execution_count": 139,
   "metadata": {},
   "outputs": [],
   "source": [
    "samps = nvp.sample((1000,), seed=jax.random.PRNGKey(1))"
   ]
  },
  {
   "cell_type": "code",
   "execution_count": 140,
   "metadata": {},
   "outputs": [
    {
     "data": {
      "image/png": "[encoded data removed]",
      "text/plain": [
       "<Figure size 432x288 with 1 Axes>"
      ]
     },
     "metadata": {
      "needs_background": "light"
     },
     "output_type": "display_data"
    }
   ],
   "source": [
    "hist2d(samps[:,0], samps[:,1],64);"
   ]
  },
  {
   "cell_type": "code",
   "execution_count": 141,
   "metadata": {},
   "outputs": [],
   "source": [
    "# Sweet :-D Hurray for TFP"
   ]
  },
  {
   "cell_type": "code",
   "execution_count": 142,
   "metadata": {},
   "outputs": [],
   "source": [
    "# Let's try to learn a density"
   ]
  },
  {
   "cell_type": "code",
   "execution_count": 143,
   "metadata": {},
   "outputs": [],
   "source": [
    "d=2\n",
    "@nn.module\n",
    "def AffineFlow(x):\n",
    "    \n",
    "    affine1 = AffineCoupling.shared(name='affine1')\n",
    "    affine2 = AffineCoupling.shared(name='affine2')\n",
    "    affine3 = AffineCoupling.shared(name='affine3',apply_scaling=False)\n",
    "    affine4 = AffineCoupling.shared(name='affine4',apply_scaling=False)\n",
    "    affine5 = AffineCoupling.shared(name='affine5',apply_scaling=False)\n",
    "    affine6 = AffineCoupling.shared(name='affine6',apply_scaling=False)\n",
    "    \n",
    "    # Computes the likelihood of these x\n",
    "    chain = tfb.Chain([\n",
    "        RealNVP(d//2, bijector_fn=affine1),\n",
    "        tfb.Permute([1,0]),\n",
    "        RealNVP(d//2, bijector_fn=affine2),\n",
    "        tfb.Permute([1,0]),\n",
    "        RealNVP(d//2, bijector_fn=affine3),\n",
    "        tfb.Permute([1,0]),\n",
    "        RealNVP(d//2, bijector_fn=affine4),\n",
    "        tfb.Permute([1,0]),\n",
    "        RealNVP(d//2, bijector_fn=affine5),\n",
    "        tfb.Permute([1,0]),\n",
    "        RealNVP(d//2, bijector_fn=affine6)\n",
    "    ])\n",
    "    \n",
    "    nvp = tfd.TransformedDistribution(\n",
    "                tfd.Normal(0,1),\n",
    "                bijector=chain,\n",
    "                event_shape=(d,))\n",
    "    \n",
    "    return nvp.log_prob(x)"
   ]
  },
  {
   "cell_type": "code",
   "execution_count": 144,
   "metadata": {},
   "outputs": [],
   "source": [
    "dummy_input = np.zeros((1,d))\n",
    "res, params = AffineFlow.init(jax.random.PRNGKey(0), dummy_input)"
   ]
  },
  {
   "cell_type": "code",
   "execution_count": 145,
   "metadata": {},
   "outputs": [],
   "source": [
    "model = nn.Model(AffineFlow, params)"
   ]
  },
  {
   "cell_type": "code",
   "execution_count": 146,
   "metadata": {},
   "outputs": [],
   "source": [
    "# Ok, sweet\n",
    "@jax.jit\n",
    "def train_step(optimizer, batch):\n",
    "    \n",
    "    def loss_fn(model):\n",
    "        log_prob = model(batch['x'])\n",
    "        return -np.mean(log_prob)\n",
    "    \n",
    "    loss, grad = jax.value_and_grad(loss_fn)(optimizer.target)\n",
    "    optimizer = optimizer.apply_gradient(grad)\n",
    "    return loss, optimizer"
   ]
  },
  {
   "cell_type": "code",
   "execution_count": 147,
   "metadata": {},
   "outputs": [],
   "source": [
    "# Now let's draw ou famous two moons\n",
    "from sklearn import datasets\n",
    "\n",
    "batch_size=1024\n",
    "def get_batch():\n",
    "    x, y = datasets.make_moons(n_samples=batch_size, noise=.05)\n",
    "    return {'x': x}"
   ]
  },
  {
   "cell_type": "code",
   "execution_count": 148,
   "metadata": {},
   "outputs": [],
   "source": [
    "# okokokok, let's try it out\n",
    "optimizer = flax.optim.Adam(learning_rate=0.001).create(model)\n",
    "losses = []"
   ]
  },
  {
   "cell_type": "code",
   "execution_count": 155,
   "metadata": {},
   "outputs": [
    {
     "name": "stdout",
     "output_type": "stream",
     "text": [
      "0.5350232\n",
      "0.506029\n",
      "0.4795205\n",
      "0.5871968\n",
      "0.57308793\n",
      "0.47504598\n",
      "0.43112496\n",
      "0.4330474\n",
      "0.40758747\n",
      "0.4637806\n",
      "0.77724886\n",
      "0.5377247\n",
      "0.47697845\n",
      "0.5463549\n",
      "0.4833246\n",
      "0.4976281\n",
      "0.48014975\n",
      "0.50423646\n",
      "0.49604598\n",
      "0.39657426\n"
     ]
    }
   ],
   "source": [
    "for i in range(2000):\n",
    "    batch = get_batch()\n",
    "    l, optimizer = train_step(optimizer, batch)\n",
    "    losses.append(l)\n",
    "    if  i %100 ==0:\n",
    "        print(l)"
   ]
  },
  {
   "cell_type": "code",
   "execution_count": 156,
   "metadata": {},
   "outputs": [
    {
     "data": {
      "text/plain": [
       "[<matplotlib.lines.Line2D at 0x7f78d868de50>]"
      ]
     },
     "execution_count": 156,
     "metadata": {},
     "output_type": "execute_result"
    },
    {
     "data": {
      "image/png": "[encoded data removed]",
      "text/plain": [
       "<Figure size 432x288 with 1 Axes>"
      ]
     },
     "metadata": {
      "needs_background": "light"
     },
     "output_type": "display_data"
    }
   ],
   "source": [
    "plot(losses[100:])"
   ]
  },
  {
   "cell_type": "code",
   "execution_count": null,
   "metadata": {},
   "outputs": [],
   "source": []
  },
  {
   "cell_type": "code",
   "execution_count": 157,
   "metadata": {},
   "outputs": [],
   "source": [
    "# ok, fine, let's see if we can rebuild our flow\n",
    "@nn.module\n",
    "def AffineFlowSampler(key, n_samples):\n",
    "    \n",
    "    affine1 = AffineCoupling.shared(name='affine1')\n",
    "    affine2 = AffineCoupling.shared(name='affine2')\n",
    "    affine3 = AffineCoupling.shared(name='affine3',apply_scaling=False)\n",
    "    affine4 = AffineCoupling.shared(name='affine4',apply_scaling=False)\n",
    "    affine5 = AffineCoupling.shared(name='affine5',apply_scaling=False)\n",
    "    affine6 = AffineCoupling.shared(name='affine6',apply_scaling=False)\n",
    "    \n",
    "    # Computes the likelihood of these x\n",
    "    chain = tfb.Chain([\n",
    "        RealNVP(d//2, bijector_fn=affine1),\n",
    "        tfb.Permute([1,0]),\n",
    "        RealNVP(d//2, bijector_fn=affine2),\n",
    "        tfb.Permute([1,0]),\n",
    "        RealNVP(d//2, bijector_fn=affine3),\n",
    "        tfb.Permute([1,0]),\n",
    "        RealNVP(d//2, bijector_fn=affine4),\n",
    "        tfb.Permute([1,0]),\n",
    "        RealNVP(d//2, bijector_fn=affine5),\n",
    "        tfb.Permute([1,0]),\n",
    "        RealNVP(d//2, bijector_fn=affine6)\n",
    "    ])\n",
    "    \n",
    "    nvp = tfd.TransformedDistribution(\n",
    "                tfd.Normal(0,1),\n",
    "                bijector=chain,\n",
    "                event_shape=(d,))\n",
    "    \n",
    "    return nvp.sample(n_samples, seed=key)"
   ]
  },
  {
   "cell_type": "code",
   "execution_count": 158,
   "metadata": {},
   "outputs": [],
   "source": [
    "sampler = nn.Model(AffineFlowSampler, optimizer.target.params)"
   ]
  },
  {
   "cell_type": "code",
   "execution_count": 159,
   "metadata": {},
   "outputs": [],
   "source": [
    "samps = sampler(jax.random.PRNGKey(1),1000)"
   ]
  },
  {
   "cell_type": "code",
   "execution_count": 161,
   "metadata": {},
   "outputs": [
    {
     "data": {
      "image/png": "[encoded data removed]",
      "text/plain": [
       "<Figure size 432x288 with 1 Axes>"
      ]
     },
     "metadata": {
      "needs_background": "light"
     },
     "output_type": "display_data"
    }
   ],
   "source": [
    "hist2d(samps[:,0], samps[:,1],64, [[-1.5,2.5],[-1.,1.5]]);\n"
   ]
  },
  {
   "cell_type": "code",
   "execution_count": null,
   "metadata": {},
   "outputs": [],
   "source": []
  }
 ],
 "metadata": {
  "kernelspec": {
   "display_name": "Python 3",
   "language": "python",
   "name": "python3"
  },
  "language_info": {
   "codemirror_mode": {
    "name": "ipython",
    "version": 3
   },
   "file_extension": ".py",
   "mimetype": "text/x-python",
   "name": "python",
   "nbconvert_exporter": "python",
   "pygments_lexer": "ipython3",
   "version": "3.8.2"
  }
 },
 "nbformat": 4,
 "nbformat_minor": 2
}
